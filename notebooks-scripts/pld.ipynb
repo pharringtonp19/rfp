{
  "nbformat": 4,
  "nbformat_minor": 0,
  "metadata": {
    "colab": {
      "provenance": [],
      "collapsed_sections": [],
      "authorship_tag": "ABX9TyNvBk20uZsdXxgzCeiNvH3H",
      "include_colab_link": true
    },
    "kernelspec": {
      "name": "python3",
      "display_name": "Python 3"
    },
    "language_info": {
      "name": "python"
    }
  },
  "cells": [
    {
      "cell_type": "markdown",
      "metadata": {
        "id": "view-in-github",
        "colab_type": "text"
      },
      "source": [
        "<a href=\"https://colab.research.google.com/github/pharringtonp19/rfp/blob/main/notebooks/pld.ipynb\" target=\"_parent\"><img src=\"https://colab.research.google.com/assets/colab-badge.svg\" alt=\"Open In Colab\"/></a>"
      ]
    },
    {
      "cell_type": "code",
      "execution_count": 1,
      "metadata": {
        "id": "XYZ7o4hXhdZu"
      },
      "outputs": [],
      "source": [
        "import jax \n",
        "import jax.numpy as jnp "
      ]
    },
    {
      "cell_type": "code",
      "source": [
        "def sample(key, weights, features, clusters):\n",
        "  subkey1, subkey2, subkey3, subkey4 = jax.random.split(key, 4)\n",
        "  controls = jax.random.normal(subkey1, shape=(features,))\n",
        "  time_period = jax.random.bernoulli(subkey2, p=0.3, shape=())\n",
        "  cluster = jax.random.choice(subkey3, clusters, shape=())\n",
        "  treatment = (cluster >= (clusters / 2)).astype(jnp.float32)\n",
        "  outcome = jnp.dot(weights, controls) + treatment + time_period + cluster + 2*treatment*time_period + jax.random.normal(subkey3, shape=())#+ 0.1*treatment*time_period*cluster\n",
        "  return outcome, treatment, time_period, controls, jax.nn.one_hot(cluster, clusters)"
      ],
      "metadata": {
        "id": "_6nlbV9ShonJ"
      },
      "execution_count": 219,
      "outputs": []
    },
    {
      "cell_type": "code",
      "source": [
        "features = 5 \n",
        "clusters = 6\n",
        "n = 1000\n",
        "weights = jax.random.normal(jax.random.PRNGKey(0), shape=(features,))"
      ],
      "metadata": {
        "id": "xw9d1Z8Tiuje"
      },
      "execution_count": 220,
      "outputs": []
    },
    {
      "cell_type": "code",
      "source": [
        "y, d, t, f, c = jax.vmap(lambda key: sample(key, weights, features, clusters))(jax.random.split(jax.random.PRNGKey(0), n))\n",
        "y, d, t = y.reshape(-1,1), d.reshape(-1,1), t.reshape(-1,1)"
      ],
      "metadata": {
        "id": "ylY32D6AifzZ"
      },
      "execution_count": 221,
      "outputs": []
    },
    {
      "cell_type": "code",
      "source": [
        "regs = jnp.hstack((d*t, d, jnp.ones_like(d), t, f, c))"
      ],
      "metadata": {
        "id": "0Y8Nks6Ni55r"
      },
      "execution_count": 223,
      "outputs": []
    },
    {
      "cell_type": "code",
      "source": [
        "ols = jnp.linalg.lstsq(regs, y)[0][0]"
      ],
      "metadata": {
        "id": "A9egOE0gjy4k"
      },
      "execution_count": 224,
      "outputs": []
    },
    {
      "cell_type": "code",
      "source": [
        "ols"
      ],
      "metadata": {
        "colab": {
          "base_uri": "https://localhost:8080/"
        },
        "id": "XAgVvdhskAX5",
        "outputId": "61b6b743-f181-4967-bfb2-3ab545145c56"
      },
      "execution_count": 225,
      "outputs": [
        {
          "output_type": "execute_result",
          "data": {
            "text/plain": [
              "DeviceArray([2.0564907], dtype=float32)"
            ]
          },
          "metadata": {},
          "execution_count": 225
        }
      ]
    },
    {
      "cell_type": "code",
      "source": [
        "type(jnp.where(t==0))"
      ],
      "metadata": {
        "colab": {
          "base_uri": "https://localhost:8080/"
        },
        "id": "nzpQ_Al1p6y8",
        "outputId": "f46813fe-2061-4436-bd25-86e3b6c0d982"
      },
      "execution_count": 226,
      "outputs": [
        {
          "output_type": "execute_result",
          "data": {
            "text/plain": [
              "tuple"
            ]
          },
          "metadata": {},
          "execution_count": 226
        }
      ]
    },
    {
      "cell_type": "code",
      "source": [
        "y_pre = y[jnp.where(t==0)[0]]#.reshape(-1,1)\n",
        "print(y_pre.shape)\n",
        "f_pre = f[jnp.where(t==0)[0]]\n",
        "print(f_pre.shape)\n",
        "c_pre = c[jnp.where(t==0)[0]]\n",
        "\n",
        "y_post = y[jnp.where(t==1)[0]].reshape(-1,1)\n",
        "f_post = f[jnp.where(t==1)[0]]\n",
        "c_post = c[jnp.where(t==1)[0]]\n",
        "d_post = d[jnp.where(t==1)[0]]"
      ],
      "metadata": {
        "colab": {
          "base_uri": "https://localhost:8080/"
        },
        "id": "WnOwyp1gpJna",
        "outputId": "048aae6f-2313-4462-85a1-74cd616bd329"
      },
      "execution_count": 227,
      "outputs": [
        {
          "output_type": "stream",
          "name": "stdout",
          "text": [
            "(691, 1)\n",
            "(691, 5)\n"
          ]
        }
      ]
    },
    {
      "cell_type": "markdown",
      "source": [
        "### **Pre-Process**"
      ],
      "metadata": {
        "id": "Gjtjw3CDrE7E"
      }
    },
    {
      "cell_type": "code",
      "source": [
        "left_reg_pre = jnp.hstack((jnp.ones_like(y_pre), f_pre, c_pre))\n",
        "left_reg_post = jnp.hstack((jnp.ones_like(y_post), f_post, c_post))\n",
        "left_coef = jnp.linalg.lstsq(left_reg_pre, y_pre)[0]\n",
        "yhat = left_reg_post @ left_coef\n",
        "ydiff = y_post - yhat"
      ],
      "metadata": {
        "id": "zHMimXi2pTRn"
      },
      "execution_count": 228,
      "outputs": []
    },
    {
      "cell_type": "code",
      "source": [
        "right_reg = jnp.hstack((jnp.ones_like(d_post),f_post))\n",
        "right_coef = jnp.linalg.lstsq(right_reg, d_post)[0]\n",
        "dhat = right_reg @ right_coef\n",
        "ddiff = d_post - dhat"
      ],
      "metadata": {
        "id": "0qjgjf_tqY9m"
      },
      "execution_count": 229,
      "outputs": []
    },
    {
      "cell_type": "code",
      "source": [
        "beta = jnp.linalg.lstsq(ddiff, ydiff)[0]\n",
        "beta"
      ],
      "metadata": {
        "colab": {
          "base_uri": "https://localhost:8080/"
        },
        "id": "0L671TmxqnVu",
        "outputId": "0033e8c6-9234-4735-a0a3-532a0b05f3a0"
      },
      "execution_count": 230,
      "outputs": [
        {
          "output_type": "execute_result",
          "data": {
            "text/plain": [
              "DeviceArray([[2.0474837]], dtype=float32)"
            ]
          },
          "metadata": {},
          "execution_count": 230
        }
      ]
    },
    {
      "cell_type": "code",
      "source": [
        "left_reg = jnp.hstack((jnp.ones_like(y), f))\n",
        "left_coef = jnp.linalg.lstsq(left_reg, y)[0]\n",
        "yhat = left_reg @ left_coef\n",
        "ydiff = y - yhat"
      ],
      "metadata": {
        "id": "UvZNEYeVkBPG"
      },
      "execution_count": 231,
      "outputs": []
    },
    {
      "cell_type": "code",
      "source": [
        "right_reg = jnp.hstack((jnp.ones_like(d), f))\n",
        "right_coef = jnp.linalg.lstsq(right_reg, d)[0]\n",
        "dhat = right_reg @ right_coef\n",
        "ddiff = d - dhat"
      ],
      "metadata": {
        "id": "lploNlphkg4O"
      },
      "execution_count": 232,
      "outputs": []
    },
    {
      "cell_type": "code",
      "source": [
        "final_regs = jnp.hstack((ddiff*t, ddiff))\n",
        "beta = jnp.linalg.lstsq(final_regs, ydiff)[0]\n",
        "print(beta)"
      ],
      "metadata": {
        "colab": {
          "base_uri": "https://localhost:8080/"
        },
        "id": "zMAaSHWykhqf",
        "outputId": "9a48ab84-8857-4093-dd3c-e0f80f5b0ea5"
      },
      "execution_count": 233,
      "outputs": [
        {
          "output_type": "stream",
          "name": "stdout",
          "text": [
            "[[2.3252537]\n",
            " [3.9920003]]\n"
          ]
        }
      ]
    },
    {
      "cell_type": "code",
      "source": [],
      "metadata": {
        "id": "IqXV016SsTkn"
      },
      "execution_count": null,
      "outputs": []
    }
  ]
}