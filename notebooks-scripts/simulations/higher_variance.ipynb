{
  "cells": [
    {
      "attachments": {},
      "cell_type": "markdown",
      "metadata": {},
      "source": [
        "#### **Import Libraries**"
      ]
    },
    {
      "cell_type": "code",
      "execution_count": 35,
      "metadata": {
        "id": "Xm90aUV7ERtu"
      },
      "outputs": [],
      "source": [
        "from typing import Tuple, Sequence\n",
        "import jax \n",
        "import jax.numpy as jnp\n",
        "from jax import Array\n",
        "import flax.linen as nn \n",
        "from functools import partial \n",
        "from einops import rearrange, repeat\n",
        "import optax \n",
        "from diffrax import diffeqsolve, ODETerm, Dopri5\n",
        "from tqdm import tqdm \n",
        "from rfp import MLP, Model, ModelParams\n",
        "from rfp.losses import Supervised_Loss, mse\n",
        "from rfp.train import Trainer"
      ]
    },
    {
      "attachments": {},
      "cell_type": "markdown",
      "metadata": {},
      "source": [
        "#### **Path**"
      ]
    },
    {
      "cell_type": "code",
      "execution_count": 3,
      "metadata": {},
      "outputs": [],
      "source": [
        "figure_folders = './../../../rfp_paper/figures/'"
      ]
    },
    {
      "attachments": {},
      "cell_type": "markdown",
      "metadata": {},
      "source": [
        "#### **Set Up Plotting**"
      ]
    },
    {
      "cell_type": "code",
      "execution_count": 4,
      "metadata": {},
      "outputs": [
        {
          "name": "stdout",
          "output_type": "stream",
          "text": [
            "./../../styles/Newsreader\n",
            "/home/ubuntu/rfp/styles/Newsreader/static/Newsreader_9pt/Newsreader_9pt-LightItalic.ttf\n"
          ]
        }
      ],
      "source": [
        "import matplotlib as mpl\n",
        "from matplotlib import pyplot as plt\n",
        "from matplotlib import rcParams\n",
        "rcParams['image.interpolation'] = 'nearest'\n",
        "rcParams['image.cmap'] = 'viridis'\n",
        "rcParams['axes.grid'] = False\n",
        "%matplotlib inline\n",
        "%config InlineBackend.figure_format = 'svg'\n",
        "plt.style.use('seaborn-v0_8-dark-palette')\n",
        "\n",
        "from matplotlib import font_manager \n",
        "locations = './../../styles/Newsreader'\n",
        "font_files = font_manager.findSystemFonts(fontpaths=locations)\n",
        "print(locations)\n",
        "print(font_files[0])\n",
        "for f in font_files: \n",
        "    font_manager.fontManager.addfont(f)\n",
        "plt.rcParams[\"font.family\"] = \"Newsreader\""
      ]
    },
    {
      "attachments": {},
      "cell_type": "markdown",
      "metadata": {},
      "source": [
        "#### **Data Hyperparameters**"
      ]
    },
    {
      "cell_type": "code",
      "execution_count": 52,
      "metadata": {
        "colab": {
          "base_uri": "https://localhost:8080/"
        },
        "id": "FwwRjD0rEpyi",
        "outputId": "27ffa887-d7c4-4b07-b63a-3554eb052b7f"
      },
      "outputs": [],
      "source": [
        "n = 20             \n",
        "d = 10             \n",
        "c = 20            \n",
        "init_key = jax.random.PRNGKey(0)\n",
        "nodes = 32 \n",
        "lr = 1e-3\n",
        "epochs = 100 "
      ]
    },
    {
      "attachments": {},
      "cell_type": "markdown",
      "metadata": {},
      "source": [
        "#### **Value to Key**"
      ]
    },
    {
      "cell_type": "code",
      "execution_count": 69,
      "metadata": {},
      "outputs": [],
      "source": [
        "def value_to_key(value: float) -> jax.random.PRNGKey:\n",
        "    # Ensure value is in the range [0, 1]\n",
        "    if not (0.0 <= value <= 1.0):\n",
        "        raise ValueError(\"Value must be between 0.0 and 1.0\")\n",
        "    \n",
        "    # Scale value to the range of PRNG key integers\n",
        "    max_int = jnp.iinfo(jnp.int32).max\n",
        "    scaled_value = jnp.array(value * max_int, dtype=jnp.int32)\n",
        "    \n",
        "    # Create a new key using the scaled value\n",
        "    key = jax.random.PRNGKey(scaled_value)\n",
        "    \n",
        "    return key"
      ]
    },
    {
      "attachments": {},
      "cell_type": "markdown",
      "metadata": {},
      "source": [
        "#### **Model**"
      ]
    },
    {
      "cell_type": "code",
      "execution_count": 54,
      "metadata": {},
      "outputs": [],
      "source": [
        "class SimpleMLP(nn.Module):\n",
        "  features: Sequence[int]\n",
        "\n",
        "  @nn.compact\n",
        "  def __call__(self, inputs):\n",
        "    x = inputs\n",
        "    for i, feat in enumerate(self.features):\n",
        "      x = nn.Dense(feat, name=f'layers_{i}')(x)\n",
        "      if i != len(self.features) - 1:\n",
        "        x = nn.relu(x)\n",
        "    return x"
      ]
    },
    {
      "attachments": {},
      "cell_type": "markdown",
      "metadata": {},
      "source": [
        "#### **Generate Conditional Expectation Functions**"
      ]
    },
    {
      "cell_type": "code",
      "execution_count": 64,
      "metadata": {},
      "outputs": [],
      "source": [
        "model = SimpleMLP([nodes, nodes, 1])\n",
        "x = jax.random.normal(jax.random.PRNGKey(0), (d,)) \n",
        "cs = jax.random.normal(init_key, shape=(c,))\n",
        "cluster_keys = jax.vmap(value_to_key)(cs)\n",
        "cluster_params = jax.vmap(model.init, in_axes=(0, None))(cluster_keys, x)"
      ]
    }
  ],
  "metadata": {
    "colab": {
      "authorship_tag": "ABX9TyPh4V8qejmlYUARsk94Vlb8",
      "collapsed_sections": [],
      "include_colab_link": true,
      "name": "local_weighted_linear_regression_no_avg_effect_LM.ipynb",
      "provenance": []
    },
    "kernelspec": {
      "display_name": "Python 3",
      "name": "python3"
    },
    "language_info": {
      "codemirror_mode": {
        "name": "ipython",
        "version": 3
      },
      "file_extension": ".py",
      "mimetype": "text/x-python",
      "name": "python",
      "nbconvert_exporter": "python",
      "pygments_lexer": "ipython3",
      "version": "3.10.12"
    }
  },
  "nbformat": 4,
  "nbformat_minor": 0
}
