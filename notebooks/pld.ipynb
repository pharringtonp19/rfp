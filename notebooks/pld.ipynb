{
  "nbformat": 4,
  "nbformat_minor": 0,
  "metadata": {
    "colab": {
      "provenance": [],
      "collapsed_sections": [],
      "authorship_tag": "ABX9TyMfx7Fl9BUhOkFXkJKY0rYc",
      "include_colab_link": true
    },
    "kernelspec": {
      "name": "python3",
      "display_name": "Python 3"
    },
    "language_info": {
      "name": "python"
    }
  },
  "cells": [
    {
      "cell_type": "markdown",
      "metadata": {
        "id": "view-in-github",
        "colab_type": "text"
      },
      "source": [
        "<a href=\"https://colab.research.google.com/github/pharringtonp19/rfp/blob/main/notebooks/pld.ipynb\" target=\"_parent\"><img src=\"https://colab.research.google.com/assets/colab-badge.svg\" alt=\"Open In Colab\"/></a>"
      ]
    },
    {
      "cell_type": "code",
      "execution_count": 1,
      "metadata": {
        "id": "XYZ7o4hXhdZu"
      },
      "outputs": [],
      "source": [
        "import jax \n",
        "import jax.numpy as jnp "
      ]
    },
    {
      "cell_type": "code",
      "source": [
        "def sample(key, weights, features, clusters):\n",
        "  subkey1, subkey2, subkey3, subkey4 = jax.random.split(key, 4)\n",
        "  controls = jax.random.normal(subkey1, shape=(features,))\n",
        "  time_period = jax.random.bernoulli(subkey2, shape=())\n",
        "  cluster = jax.random.choice(subkey3, clusters, shape=())\n",
        "  treatment = (cluster % 2 == 0.).astype(jnp.float32)\n",
        "  outcome = jnp.dot(weights, controls) + treatment + time_period + cluster + 2*treatment*time_period\n",
        "  return outcome, treatment, time_period, controls, jax.nn.one_hot(cluster, clusters)"
      ],
      "metadata": {
        "id": "_6nlbV9ShonJ"
      },
      "execution_count": 25,
      "outputs": []
    },
    {
      "cell_type": "code",
      "source": [
        "features = 5 \n",
        "clusters = 5\n",
        "n = 1000\n",
        "weights = jax.random.normal(jax.random.PRNGKey(0), shape=(features,))"
      ],
      "metadata": {
        "id": "xw9d1Z8Tiuje"
      },
      "execution_count": 33,
      "outputs": []
    },
    {
      "cell_type": "code",
      "source": [
        "y, d, t, f, c = jax.vmap(lambda key: sample(key, weights, features, clusters))(jax.random.split(jax.random.PRNGKey(0), n))\n",
        "y, d, t = y.reshape(-1,1), d.reshape(-1,1), t.reshape(-1,1)"
      ],
      "metadata": {
        "id": "ylY32D6AifzZ"
      },
      "execution_count": 34,
      "outputs": []
    },
    {
      "cell_type": "code",
      "source": [
        "regs = jnp.hstack((d*t, d, jnp.ones_like(d), t, f, c))"
      ],
      "metadata": {
        "id": "0Y8Nks6Ni55r"
      },
      "execution_count": 38,
      "outputs": []
    },
    {
      "cell_type": "code",
      "source": [
        "ols = jnp.linalg.lstsq(regs, y)[0][0]"
      ],
      "metadata": {
        "id": "A9egOE0gjy4k"
      },
      "execution_count": 39,
      "outputs": []
    },
    {
      "cell_type": "code",
      "source": [
        "ols"
      ],
      "metadata": {
        "colab": {
          "base_uri": "https://localhost:8080/"
        },
        "id": "XAgVvdhskAX5",
        "outputId": "e1b4ca7a-bdf6-4c16-c968-05989a0947f1"
      },
      "execution_count": 40,
      "outputs": [
        {
          "output_type": "execute_result",
          "data": {
            "text/plain": [
              "DeviceArray([2.000001], dtype=float32)"
            ]
          },
          "metadata": {},
          "execution_count": 40
        }
      ]
    },
    {
      "cell_type": "code",
      "source": [
        "left_reg = jnp.hstack((f,c, t))\n",
        "left_coef = jnp.linalg.lstsq(left_reg, y)[0]\n",
        "yhat = left_reg @ left_coef\n",
        "ydiff = y - yhat"
      ],
      "metadata": {
        "id": "UvZNEYeVkBPG"
      },
      "execution_count": 57,
      "outputs": []
    },
    {
      "cell_type": "code",
      "source": [
        "right_reg = f \n",
        "right_coef = jnp.linalg.lstsq(right_reg, d)[0]\n",
        "dhat = right_reg @ right_coef\n",
        "diff = d - dhat"
      ],
      "metadata": {
        "id": "lploNlphkg4O"
      },
      "execution_count": 58,
      "outputs": []
    },
    {
      "cell_type": "code",
      "source": [
        "#final_regs = #jnp.hstack((diff*t, diff))\n",
        "beta = jnp.linalg.lstsq(diff, ydiff)[0]"
      ],
      "metadata": {
        "id": "zMAaSHWykhqf"
      },
      "execution_count": 60,
      "outputs": []
    },
    {
      "cell_type": "code",
      "source": [
        "beta"
      ],
      "metadata": {
        "colab": {
          "base_uri": "https://localhost:8080/"
        },
        "id": "ZPJb_ATclHbL",
        "outputId": "b34d5b0b-9347-424d-cab1-c7cd61556f41"
      },
      "execution_count": 61,
      "outputs": [
        {
          "output_type": "execute_result",
          "data": {
            "text/plain": [
              "DeviceArray([[1.3994378e-06]], dtype=float32)"
            ]
          },
          "metadata": {},
          "execution_count": 61
        }
      ]
    },
    {
      "cell_type": "code",
      "source": [],
      "metadata": {
        "id": "zCtAmpAAlIIL"
      },
      "execution_count": null,
      "outputs": []
    }
  ]
}