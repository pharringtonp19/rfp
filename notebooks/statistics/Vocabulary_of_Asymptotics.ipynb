{
  "nbformat": 4,
  "nbformat_minor": 0,
  "metadata": {
    "colab": {
      "provenance": [],
      "authorship_tag": "ABX9TyNhyfbGeOO6BqpzIpmO+tX9",
      "include_colab_link": true
    },
    "kernelspec": {
      "name": "python3",
      "display_name": "Python 3"
    },
    "language_info": {
      "name": "python"
    }
  },
  "cells": [
    {
      "cell_type": "markdown",
      "metadata": {
        "id": "view-in-github",
        "colab_type": "text"
      },
      "source": [
        "<a href=\"https://colab.research.google.com/github/pharringtonp19/rfp/blob/main/notebooks/statistics/Vocabulary_of_Asymptotics.ipynb\" target=\"_parent\"><img src=\"https://colab.research.google.com/assets/colab-badge.svg\" alt=\"Open In Colab\"/></a>"
      ]
    },
    {
      "cell_type": "code",
      "execution_count": 2,
      "metadata": {
        "id": "LLAlu9abWE38"
      },
      "outputs": [],
      "source": [
        "import jax \n",
        "import jax.numpy as jnp \n",
        "from functools import partial \n",
        "import matplotlib.pyplot as plt"
      ]
    },
    {
      "cell_type": "markdown",
      "source": [
        "### **References**\n",
        "- [UCLA STATS 203](https://youtu.be/UDSlxZwLkLc?list=PLAYxx7zX5F1NKukTVwMADi1D5dbufWJkz)"
      ],
      "metadata": {
        "id": "RWEZ3WT_duHw"
      }
    },
    {
      "cell_type": "markdown",
      "source": [
        "### **Efficiency**\n",
        "\n",
        "Efficiency is closely related to the bias and variance"
      ],
      "metadata": {
        "id": "Ot2xi-8hcqOy"
      }
    },
    {
      "cell_type": "markdown",
      "source": [
        "### **Asymptotic Equivalence**\n",
        "\n",
        "- We can say that a sequence is asymptotically equivalent to another sequence if the limit of the ratio of the sequences is equal to $1$\n",
        "- This means that we care about constants though!\n"
      ],
      "metadata": {
        "id": "qKT64tBcWTrN"
      }
    },
    {
      "cell_type": "code",
      "source": [
        "an = lambda n : n + n**2 \n",
        "bn = lambda n : n**2\n",
        "ratio = lambda n: an(n)/bn(n)\n",
        "\n",
        "ns = jnp.arange(1, 100)\n",
        "rs = jax.vmap(ratio)(ns)\n",
        "plt.plot(ns, rs)\n",
        "plt.show()"
      ],
      "metadata": {
        "colab": {
          "base_uri": "https://localhost:8080/",
          "height": 265
        },
        "id": "8SOydDspWTLf",
        "outputId": "e6ff5207-f64a-414c-8c85-992ba8fb5e55"
      },
      "execution_count": 7,
      "outputs": [
        {
          "output_type": "display_data",
          "data": {
            "text/plain": [
              "<Figure size 432x288 with 1 Axes>"
            ],
            "image/png": "[encoded data removed]"
          },
          "metadata": {
            "needs_background": "light"
          }
        }
      ]
    },
    {
      "cell_type": "markdown",
      "source": [
        "### **Same Order**\n",
        "- We can say that two sequences, $a_n, b_n$, are asymptotically of the same order if the ratio of the sequences, $\\big| \\frac{a_n}{b_n}\\big|$, are asymptotically bounded"
      ],
      "metadata": {
        "id": "ec6BSY9WXarY"
      }
    },
    {
      "cell_type": "code",
      "source": [
        "an = lambda n : n + 3*n**2 \n",
        "bn = lambda n : n**2\n",
        "ratio = lambda n: an(n)/bn(n)\n",
        "\n",
        "ns = jnp.arange(1, 100)\n",
        "rs = jax.vmap(ratio)(ns)\n",
        "plt.plot(ns, rs)\n",
        "plt.show()"
      ],
      "metadata": {
        "colab": {
          "base_uri": "https://localhost:8080/",
          "height": 265
        },
        "id": "QpBg1DNoW8h0",
        "outputId": "fe5259a3-c285-4221-848d-f79af791c080"
      },
      "execution_count": 9,
      "outputs": [
        {
          "output_type": "display_data",
          "data": {
            "text/plain": [
              "<Figure size 432x288 with 1 Axes>"
            ],
            "image/png": "[encoded data removed]"
          },
          "metadata": {
            "needs_background": "light"
          }
        }
      ]
    },
    {
      "cell_type": "markdown",
      "source": [
        "### **Small O**\n",
        " - When we say that $a_n = o(b_n)$, we mean that the limit of the ratio, $\\frac{a_n}{b_n}$ goes to zero.\n",
        " - An important case is when both sequences coverge to $0$."
      ],
      "metadata": {
        "id": "5eqcMqOFZcaF"
      }
    },
    {
      "cell_type": "code",
      "source": [
        "an = lambda n : 10*n  \n",
        "bn = lambda n : n**(3/2)\n",
        "ratio = lambda n: an(n)/bn(n)\n",
        "\n",
        "ns = jnp.arange(1, 1000)\n",
        "rs = jax.vmap(ratio)(ns)\n",
        "plt.plot(ns, rs)\n",
        "plt.show()"
      ],
      "metadata": {
        "colab": {
          "base_uri": "https://localhost:8080/",
          "height": 265
        },
        "id": "6bzgOuRXYQtX",
        "outputId": "9cc5aa0c-e59c-4294-cc39-52186c411f30"
      },
      "execution_count": 14,
      "outputs": [
        {
          "output_type": "display_data",
          "data": {
            "text/plain": [
              "<Figure size 432x288 with 1 Axes>"
            ],
            "image/png": "[encoded data removed]"
          },
          "metadata": {
            "needs_background": "light"
          }
        }
      ]
    },
    {
      "cell_type": "code",
      "source": [
        "an = lambda n : 1/n**2 \n",
        "bn = lambda n : 1/jnp.sqrt(n)\n",
        "ratio = lambda n: an(n)/bn(n)\n",
        "\n",
        "ns = jnp.arange(1, 1000)\n",
        "rs = jax.vmap(ratio)(ns)\n",
        "plt.plot(ns, rs)\n",
        "plt.show()"
      ],
      "metadata": {
        "colab": {
          "base_uri": "https://localhost:8080/",
          "height": 265
        },
        "id": "7v717xb9Z3nT",
        "outputId": "419f03a1-db03-4e35-efc5-f385b7068f93"
      },
      "execution_count": 16,
      "outputs": [
        {
          "output_type": "display_data",
          "data": {
            "text/plain": [
              "<Figure size 432x288 with 1 Axes>"
            ],
            "image/png": "[encoded data removed]"
          },
          "metadata": {
            "needs_background": "light"
          }
        }
      ]
    },
    {
      "cell_type": "code",
      "source": [
        "an = lambda n : jnp.log(n)\n",
        "bn = lambda n : n**0.2\n",
        "ratio = lambda n: an(n)/bn(n)\n",
        "\n",
        "ns = jnp.arange(1, 1000000)\n",
        "rs = jax.vmap(ratio)(ns)\n",
        "plt.plot(ns, rs)\n",
        "plt.show()"
      ],
      "metadata": {
        "colab": {
          "base_uri": "https://localhost:8080/",
          "height": 278
        },
        "id": "ikCXY8OaanRh",
        "outputId": "05eeb6ae-49d2-474d-af67-fad4380ecc69"
      },
      "execution_count": 25,
      "outputs": [
        {
          "output_type": "display_data",
          "data": {
            "text/plain": [
              "<Figure size 432x288 with 1 Axes>"
            ],
            "image/png": "[encoded data removed]"
          },
          "metadata": {
            "needs_background": "light"
          }
        }
      ]
    },
    {
      "cell_type": "markdown",
      "source": [
        "### **Big O**\n",
        "When we say that $a_n = O(b_n)$, we mean that it is either small-O or of the same order"
      ],
      "metadata": {
        "id": "aJeTvkdLeqdI"
      }
    },
    {
      "cell_type": "code",
      "source": [],
      "metadata": {
        "id": "k705vC59eSPZ"
      },
      "execution_count": null,
      "outputs": []
    }
  ]
}