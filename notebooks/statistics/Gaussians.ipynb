{
  "nbformat": 4,
  "nbformat_minor": 0,
  "metadata": {
    "colab": {
      "provenance": [],
      "authorship_tag": "ABX9TyPbkjOV4EMrRX0vG7xUk94/",
      "include_colab_link": true
    },
    "kernelspec": {
      "name": "python3",
      "display_name": "Python 3"
    },
    "language_info": {
      "name": "python"
    },
    "accelerator": "GPU",
    "gpuClass": "standard"
  },
  "cells": [
    {
      "cell_type": "markdown",
      "metadata": {
        "id": "view-in-github",
        "colab_type": "text"
      },
      "source": [
        "<a href=\"https://colab.research.google.com/github/pharringtonp19/rfp/blob/main/notebooks/statistics/Gaussians.ipynb\" target=\"_parent\"><img src=\"https://colab.research.google.com/assets/colab-badge.svg\" alt=\"Open In Colab\"/></a>"
      ]
    },
    {
      "cell_type": "code",
      "execution_count": 1,
      "metadata": {
        "id": "mr6Otq8CD9Yo"
      },
      "outputs": [],
      "source": [
        "%%capture \n",
        "!pip install distrax"
      ]
    },
    {
      "cell_type": "code",
      "source": [
        "import jax \n",
        "import jax.numpy as jnp \n",
        "import distrax \n",
        "from functools import partial \n",
        "import matplotlib.pyplot as plt"
      ],
      "metadata": {
        "id": "L4KW5U9zECuz"
      },
      "execution_count": 2,
      "outputs": []
    },
    {
      "cell_type": "code",
      "source": [
        "n = 100 \n",
        "d = 10 "
      ],
      "metadata": {
        "id": "bvBSi3W-EduT"
      },
      "execution_count": 3,
      "outputs": []
    },
    {
      "cell_type": "code",
      "source": [
        "#@title **Sample** { display-mode: \"form\" }\n",
        "def sample(dist, key, n):\n",
        "  return dist.sample(seed=key, sample_shape=(n,))"
      ],
      "metadata": {
        "id": "89Jlw5ztFFPb"
      },
      "execution_count": 4,
      "outputs": []
    },
    {
      "cell_type": "code",
      "source": [
        "#@title **Estimator** { display-mode: \"form\" }\n",
        "def estimator(data):\n",
        "  return jnp.mean(data, axis=0)"
      ],
      "metadata": {
        "id": "yH8whAJyEXKQ"
      },
      "execution_count": 5,
      "outputs": []
    },
    {
      "cell_type": "code",
      "source": [
        "#@title **Deviation** { display-mode: \"form\" }\n",
        "def deviation(mu, data):\n",
        "  estimate = estimator(data)\n",
        "  return jnp.linalg.norm(estimate - mu)**2  "
      ],
      "metadata": {
        "id": "oM9mN5t8Ek-X"
      },
      "execution_count": 6,
      "outputs": []
    },
    {
      "cell_type": "code",
      "source": [
        "#@title **Simulate** { display-mode: \"form\" }\n",
        "def simulate(dist, n, mu, key): \n",
        "  data = sample(dist, key, n)\n",
        "  return deviation(mu, data)"
      ],
      "metadata": {
        "id": "YqtR0LUiGxlH"
      },
      "execution_count": 7,
      "outputs": []
    },
    {
      "cell_type": "code",
      "source": [
        "#@title **Data Generating Process** { display-mode: \"form\" }\n",
        "\n",
        "\n",
        "for j in [10, 20, 30]:\n",
        "  results = []\n",
        "  for i in range(50, 1000, 10):\n",
        "    mu = jnp.zeros(shape=(j,))\n",
        "    sigma = jnp.ones_like(mu)\n",
        "    dist_distrax = distrax.MultivariateNormalDiag(mu, sigma)\n",
        "    f = partial(simulate, dist_distrax, i, mu)\n",
        "    ans = jnp.mean(jax.vmap(jax.jit(f))(jax.random.split(jax.random.PRNGKey(0), 5000)))\n",
        "    results.append(ans)\n",
        "  plt.plot(range(50, 1000, 10), results, label=j)\n",
        "plt.legend(frameon=False)\n",
        "plt.show()"
      ],
      "metadata": {
        "colab": {
          "base_uri": "https://localhost:8080/",
          "height": 265
        },
        "id": "lhlYz1mjEKuV",
        "outputId": "fc7e564f-20d3-4ef4-a9d2-df98f75c3d31"
      },
      "execution_count": 11,
      "outputs": [
        {
          "output_type": "display_data",
          "data": {
            "text/plain": [
              "<Figure size 432x288 with 1 Axes>"
            ],
            "image/png": "[encoded data removed]"
          },
          "metadata": {
            "needs_background": "light"
          }
        }
      ]
    },
    {
      "cell_type": "code",
      "source": [
        "def benchmark(sigma, d, n):\n",
        "  return d*sigma**2/n"
      ],
      "metadata": {
        "id": "w3Zd3-juJxII"
      },
      "execution_count": 12,
      "outputs": []
    },
    {
      "cell_type": "code",
      "source": [
        "for j in [10, 20, 30]:\n",
        "  f = partial(benchmark, 1, j)\n",
        "  f_vec = jax.vmap(f)\n",
        "  ys = f_vec(jnp.linspace(50, 1000))\n",
        "  plt.plot(jnp.linspace(50, 1000), ys)\n",
        "plt.show()"
      ],
      "metadata": {
        "colab": {
          "base_uri": "https://localhost:8080/",
          "height": 265
        },
        "id": "etDZiCmCJ-XJ",
        "outputId": "8bccd6d8-4249-46d5-ed47-5c05c6982558"
      },
      "execution_count": 13,
      "outputs": [
        {
          "output_type": "display_data",
          "data": {
            "text/plain": [
              "<Figure size 432x288 with 1 Axes>"
            ],
            "image/png": "[encoded data removed]"
          },
          "metadata": {
            "needs_background": "light"
          }
        }
      ]
    },
    {
      "cell_type": "code",
      "source": [],
      "metadata": {
        "id": "c7aFPpuZKVVI"
      },
      "execution_count": null,
      "outputs": []
    }
  ]
}